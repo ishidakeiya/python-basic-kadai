{
  "nbformat": 4,
  "nbformat_minor": 0,
  "metadata": {
    "colab": {
      "provenance": [],
      "toc_visible": true
    },
    "kernelspec": {
      "name": "python3",
      "display_name": "Python 3"
    },
    "language_info": {
      "name": "python"
    }
  },
  "cells": [
    {
      "cell_type": "code",
      "execution_count": 3,
      "metadata": {
        "colab": {
          "base_uri": "https://localhost:8080/"
        },
        "id": "XvZGb4pY7K8N",
        "outputId": "b40597f6-ad9f-4689-ce9d-c32ae6f3f723"
      },
      "outputs": [
        {
          "output_type": "stream",
          "name": "stdout",
          "text": [
            "75.0cm²\n"
          ]
        }
      ],
      "source": [
        "upper=10\n",
        "lower=20\n",
        "height=5\n",
        "t=(upper+lower)*height/2\n",
        "\n",
        "print(f\"{t}cm²\")"
      ]
    }
  ]
}