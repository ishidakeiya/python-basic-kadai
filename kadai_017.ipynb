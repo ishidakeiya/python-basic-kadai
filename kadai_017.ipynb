{
  "nbformat": 4,
  "nbformat_minor": 0,
  "metadata": {
    "colab": {
      "provenance": []
    },
    "kernelspec": {
      "name": "python3",
      "display_name": "Python 3"
    },
    "language_info": {
      "name": "python"
    }
  },
  "cells": [
    {
      "cell_type": "code",
      "execution_count": null,
      "metadata": {
        "id": "EpBhH2-U_wYq"
      },
      "outputs": [],
      "source": []
    },
    {
      "cell_type": "code",
      "execution_count": 6,
      "metadata": {
        "colab": {
          "base_uri": "https://localhost:8080/"
        },
        "id": "j9iwUsM9jQAp",
        "outputId": "4ef8dc4a-3fb0-4214-a56c-478b9ce005e9"
      },
      "outputs": [
        {
          "output_type": "stream",
          "name": "stdout",
          "text": [
            "Keiyaは大人です\n",
            "reoは大人ではありません\n",
            "maiは大人です\n",
            "wakabaは大人ではありません\n"
          ]
        }
      ],
      "source": [
        "class Human:\n",
        "  def __init__(self,name,age):\n",
        "    self.name=name\n",
        "    self.age=age\n",
        "  def set_name(self,name):\n",
        "    self.name=name\n",
        "  def set_age(self,age):\n",
        "    self.age=age\n",
        "  def check_adult(self):\n",
        "    if self.age >= 20:\n",
        "      print(f\"{self.name}は大人です\")\n",
        "    else:\n",
        "      print(f\"{self.name}は大人ではありません\")\n",
        "\n",
        "human_list1=Human(\"Keiya\",27)\n",
        "human_list2=Human(\"reo\",7)\n",
        "human_list3=Human(\"mai\",20)\n",
        "human_list4=Human(\"wakaba\",19)\n",
        "human_list=[human_list1,human_list2,human_list3,human_list4]\n",
        "for human in human_list:\n",
        "  human.check_adult()"
      ]
    }
  ]
}