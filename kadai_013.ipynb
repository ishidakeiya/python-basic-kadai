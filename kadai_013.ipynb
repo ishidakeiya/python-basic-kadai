{
  "nbformat": 4,
  "nbformat_minor": 0,
  "metadata": {
    "colab": {
      "provenance": []
    },
    "kernelspec": {
      "name": "python3",
      "display_name": "Python 3"
    },
    "language_info": {
      "name": "python"
    }
  },
  "cells": [
    {
      "cell_type": "code",
      "execution_count": 12,
      "metadata": {
        "colab": {
          "base_uri": "https://localhost:8080/"
        },
        "id": "E1hWcRu79561",
        "outputId": "f6a80e90-0f11-427d-f721-5dbc62f55ceb"
      },
      "outputs": [
        {
          "output_type": "stream",
          "name": "stdout",
          "text": [
            "1100.0\n"
          ]
        }
      ],
      "source": [
        "def keisan(price,tax):\n",
        "  total=price*(1+(tax/100))\n",
        "  return total\n",
        "\n",
        "total=keisan(1000,10)\n",
        "print(total)"
      ]
    }
  ]
}