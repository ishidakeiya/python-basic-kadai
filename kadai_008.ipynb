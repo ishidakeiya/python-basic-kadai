{
  "nbformat": 4,
  "nbformat_minor": 0,
  "metadata": {
    "colab": {
      "provenance": []
    },
    "kernelspec": {
      "name": "python3",
      "display_name": "Python 3"
    },
    "language_info": {
      "name": "python"
    }
  },
  "cells": [
    {
      "cell_type": "code",
      "execution_count": 33,
      "metadata": {
        "id": "7bHyZIVkcKUb",
        "colab": {
          "base_uri": "https://localhost:8080/"
        },
        "outputId": "c59b8865-44df-493e-bc99-74747969cceb"
      },
      "outputs": [
        {
          "output_type": "stream",
          "name": "stdout",
          "text": [
            "FizzBuzz\n"
          ]
        }
      ],
      "source": [
        "import random\n",
        "var = random.randint(0,20)\n",
        "\n",
        "if (var % 3 == 0 and var % 5 == 0):\n",
        "  print(\"FizzBuzz\")\n",
        "elif (var % 3 == 0):\n",
        "  print(\"Fizz\")\n",
        "elif (var % 5 == 0):\n",
        "  print(\"Buzz\")\n",
        "else:\n",
        "  print(var)"
      ]
    }
  ]
}