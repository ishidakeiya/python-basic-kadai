{
  "nbformat": 4,
  "nbformat_minor": 0,
  "metadata": {
    "colab": {
      "provenance": []
    },
    "kernelspec": {
      "name": "python3",
      "display_name": "Python 3"
    },
    "language_info": {
      "name": "python"
    }
  },
  "cells": [
    {
      "cell_type": "code",
      "execution_count": 12,
      "metadata": {
        "colab": {
          "base_uri": "https://localhost:8080/"
        },
        "id": "j9iwUsM9jQAp",
        "outputId": "e33af0e7-4be4-4518-890f-f3ab7c089aa2"
      },
      "outputs": [
        {
          "output_type": "stream",
          "name": "stdout",
          "text": [
            "Keiya\n",
            "27\n"
          ]
        }
      ],
      "source": [
        "class Human:\n",
        "  def __init__(self):\n",
        "    self.name=\"\"\n",
        "    self.age=\"\"\n",
        "  def set_name(self,name):\n",
        "    self.name=name\n",
        "  def set_age(self,age):\n",
        "    self.age=age\n",
        "  def printinfo(self):\n",
        "    print(self.name)\n",
        "    print(self.age)\n",
        "\n",
        "information=Human()\n",
        "\n",
        "information.set_name(\"Keiya\")\n",
        "information.set_age(\"27\")\n",
        "information.printinfo()"
      ]
    }
  ]
}